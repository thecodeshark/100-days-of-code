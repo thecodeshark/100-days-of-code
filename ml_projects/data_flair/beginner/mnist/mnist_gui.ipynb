{
 "cells": [
  {
   "cell_type": "code",
   "execution_count": 1,
   "metadata": {},
   "outputs": [
    {
     "name": "stderr",
     "output_type": "stream",
     "text": [
      "Using TensorFlow backend.\n"
     ]
    }
   ],
   "source": [
    "import tkinter\n",
    "from tkinter import *\n",
    "from keras.models import load_model\n",
    "import sys\n",
    "import numpy as np"
   ]
  },
  {
   "cell_type": "code",
   "execution_count": 2,
   "metadata": {},
   "outputs": [],
   "source": [
    "if sys.platform in (\"win32\", \"darwin\"):\n",
    "    from PIL import ImageGrab\n",
    "else:\n",
    "    import pyscreenshot as ImageGrab"
   ]
  },
  {
   "cell_type": "code",
   "execution_count": 3,
   "metadata": {},
   "outputs": [],
   "source": [
    "model = load_model('mnist.h5')\n",
    "def predict_digit(img):\n",
    "    #resize image to 28x28 pixels\n",
    "    img = img.resize((28,28))\n",
    "    #convert rgb to grayscale\n",
    "    img = img.convert('L')\n",
    "    img.save(\"test.png\")\n",
    "    img = np.array(img)\n",
    "    #reshaping to support our model input and normalizing\n",
    "    img = img.reshape(1,28,28,1)\n",
    "    img = img/255.0\n",
    "    #predicting the class\n",
    "    res = model.predict([img])[0]\n",
    "    return np.argmax(res), max(res)"
   ]
  },
  {
   "cell_type": "code",
   "execution_count": 4,
   "metadata": {},
   "outputs": [],
   "source": [
    "class MainApp(Tk):\n",
    "    def __init__(self):\n",
    "        Tk.__init__(self)\n",
    "        self.title(\"MNIST classify GUI\")\n",
    "        self.canvas = Canvas(self, width=400, height=400, bg = \"white\", cursor=\"cross\")\n",
    "        self.canvas.bind(\"<B1-Motion>\", self.draw_lines)\n",
    "        self.label = Label(self, text=\"Waiting...\", font=(\"Helvetica\", 24))\n",
    "        self.canvas.grid(row=0, column=0, pady=2,columnspan=3)\n",
    "        self.label.grid(row=1, column=0, pady=2,columnspan=3)\n",
    "        self.classify_button = Button(self, text='Classify', command=self.classify)\n",
    "        self.clear_button = Button(self, text='Clear', command=self.clear)\n",
    "        self.quit_button = Button(self, text='Quit', command=self.quit)\n",
    "        self.classify_button.grid(row=2, column=0, pady=2)\n",
    "        self.clear_button.grid(row=2, column=1, pady=2 )\n",
    "        self.quit_button.grid(row=2, column=2, pady=2 )\n",
    "    def get_canvas(self):\n",
    "        x = self.winfo_rootx() + self.canvas.winfo_x()\n",
    "        y = self.winfo_rooty() + self.canvas.winfo_y()\n",
    "        xx = x + self.canvas.winfo_width()\n",
    "        yy = y + self.canvas.winfo_height()\n",
    "        print(x,xx,y,yy)\n",
    "        return ImageGrab.grab(bbox=(x, y, xx, yy))\n",
    "    def quit(self):\n",
    "        self.destroy()\n",
    "    def clear(self):\n",
    "        self.canvas.delete(\"all\")\n",
    "    def classify(self):\n",
    "        canvas_img = self.get_canvas()\n",
    "        cl,acc = predict_digit(canvas_img)\n",
    "        print(str(cl)+', '+ str(int(acc*100))+'%')\n",
    "        if acc<0.8:\n",
    "            self.label.configure(text= \"Can't Determine\")\n",
    "        else:\n",
    "            self.label.configure(text= str(cl)+', '+ str(int(acc*100))+'%')\n",
    "    def draw_lines(self,event):\n",
    "        self.x = event.x\n",
    "        self.y = event.y\n",
    "        r=8\n",
    "        self.canvas.create_oval(self.x-r, self.y-r, self.x + r, self.y + r, fill='black')\n",
    "        "
   ]
  },
  {
   "cell_type": "code",
   "execution_count": 5,
   "metadata": {},
   "outputs": [
    {
     "name": "stdout",
     "output_type": "stream",
     "text": [
      "50 452 184 586\n",
      "7, 32%\n",
      "96 498 184 586\n",
      "6, 35%\n"
     ]
    }
   ],
   "source": [
    "if __name__ == \"__main__\":\n",
    "    app = MainApp()\n",
    "    app.mainloop()\n"
   ]
  },
  {
   "cell_type": "code",
   "execution_count": null,
   "metadata": {},
   "outputs": [],
   "source": []
  }
 ],
 "metadata": {
  "kernelspec": {
   "display_name": "venv_mnist",
   "language": "python",
   "name": "venv_mnist"
  },
  "language_info": {
   "codemirror_mode": {
    "name": "ipython",
    "version": 3
   },
   "file_extension": ".py",
   "mimetype": "text/x-python",
   "name": "python",
   "nbconvert_exporter": "python",
   "pygments_lexer": "ipython3",
   "version": "3.8.2"
  }
 },
 "nbformat": 4,
 "nbformat_minor": 4
}
